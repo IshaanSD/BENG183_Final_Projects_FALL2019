{
  "nbformat": 4,
  "nbformat_minor": 0,
  "metadata": {
    "colab": {
      "name": "beng Project",
      "provenance": [],
      "collapsed_sections": [],
      "include_colab_link": true
    },
    "kernelspec": {
      "name": "python2",
      "display_name": "Python 2"
    }
  },
  "cells": [
    {
      "cell_type": "markdown",
      "metadata": {
        "id": "view-in-github",
        "colab_type": "text"
      },
      "source": [
        "<a href=\"https://colab.research.google.com/github/Meganmli/BENG183_Final_Projects_FALL2019/blob/master/beng_Project.ipynb\" target=\"_parent\"><img src=\"https://colab.research.google.com/assets/colab-badge.svg\" alt=\"Open In Colab\"/></a>"
      ]
    },
    {
      "cell_type": "markdown",
      "metadata": {
        "id": "x9PTmzM0zMa3",
        "colab_type": "text"
      },
      "source": [
        "## **Biomedical Natural Language Processing** \n",
        "1. [What is Natural Language Processing](#1)\n",
        "2. [Overivew of NER methods](#2)<br>\n",
        "3. [Steps in Classification](#3)<br>\n",
        "    3.1. [Tagging Words from Text](#31)<br>\n",
        "    3.2. [Converting Words to Vectors](#32)<br>\n",
        "    3.3. [Creating Models](#33)\n",
        "4. [Applications](#4) <br>\n",
        "    4.1 [Case Study](#41)<br>"
      ]
    },
    {
      "cell_type": "markdown",
      "metadata": {
        "id": "Vp4JeiJtzMkG",
        "colab_type": "text"
      },
      "source": [
        "## **1. What is Natural Language Processing**  <a name=\"1\"></a>\n",
        "\n",
        "> NLP is a field in machine learning with the ability of a computer to understand, analyze, manipulate, and potentially generate human language. [1]\n",
        "\n",
        ">NLP can help with many tasks and can applicable to a variety of fields. For example, NLP enables the recognition and prediction of diseases based on electronic health records and patient’s own speech. This capability is being explored in health conditions that go from cardiovascular diseases to depression and even schizophrenia. For example, Amazon Comprehend Medical is a service that uses NLP to extract disease conditions, medications and treatment outcomes from patient notes, clinical trial reports and other electronic health records. [2] "
      ]
    },
    {
      "cell_type": "markdown",
      "metadata": {
        "id": "1cEloGfMfVB_",
        "colab_type": "text"
      },
      "source": [
        "## **2. Overivew of 3C methods**<a name=\"2\"></a>\n",
        "\n",
        "What is NER?\n",
        "\n",
        "Name Entity Recognition plays a major role in the semantic part of NLP, which extracts the meaning of words, sentences and their relationships [1]. NER is able to locate entities in a text and label it based on predefined categories. Some examples of entities are, “person”, “organization”, “place”, or even a biomedical term. For example NER can recognize that “pancreatic cancer” is a disease and “reduced lung function” is a symptom. NER plays an important role in enabling machines to understand a text. \n",
        "\n",
        "---\n",
        "Overview of Classification\n",
        "![](overview.png){:height=\"50%\" width=\"50%}"
      ]
    },
    {
      "cell_type": "markdown",
      "metadata": {
        "id": "hzKi1UtPzwPk",
        "colab_type": "text"
      },
      "source": [
        "## **3. Steps in Classification**<a name=\"3\"></a>"
      ]
    },
    {
      "cell_type": "markdown",
      "metadata": {
        "colab_type": "text",
        "id": "ksBCVvkZz_Oa"
      },
      "source": [
        "\n",
        "#### **3.1 Tagging Words from Text** <a name=\"31\"></a>\n",
        "\n",
        "NER classifies the words in the given text into predefined categories\n"
      ]
    },
    {
      "cell_type": "markdown",
      "metadata": {
        "id": "ENl6VgM3Bldy",
        "colab_type": "text"
      },
      "source": [
        "#### **3.2 Converting Words to Vectors** <a name=\"32\"></a>\n",
        "\n",
        "(insert photo)\n",
        "\n",
        "This image describes the general outline from converting text to vectors based on associativity, which is then applied to train the neural network/input. A neural network is a computing system created from interconnected nodes that process information and inputs.\n",
        "\n",
        "Word2Vec\n",
        "- Machine Learning models take matrices as input; therefore, we need to convert every word in the text into a vector and represent them in vector space \n",
        "- One common Word2Vec model is the Skip-Gram Model. This word vectorization method represents semantic connections between words. Word vectorization methods provide Distributional Similarity Based Representation, which states you can get a lot of value by representing a word by means of its neighbors. \n",
        "- A Skip-Gram Model uses the current word to predict its neighbors (its context). \n",
        " - We train the neural network by feeding it word pairs found in documents. The network is going to learn the statistics from the frequency of each pairing ( number of times each pairing shows up).\n",
        " - The result of this model is that the words appearing in similar contexts in these texts are represented by proximal vectors \n",
        "\n"
      ]
    },
    {
      "cell_type": "markdown",
      "metadata": {
        "id": "e0MWOMoEBlNF",
        "colab_type": "text"
      },
      "source": [
        "#### **3.3 Creating Models** <a name=\"33\"></a>\n",
        "- Traditionally, Recurrent Neural Networks (RNN), which are networks with loops (formulated by matrix multiplication) to retain information, is used for translation, image captioning, and more.  RNNs combine the input vector with their state vector with a fixed (but learned) function to produce a new state vector [4]\n",
        "- However, the Bi-Directional Long Short-Term Memory (Bi-LSTM), which finds the probability of a word based on its full left and right contexts is ideal for maximizing the possibility of correctly clustering key phrases of symptoms, diseases, and/or treatments for a specific condition.\n",
        ">“processes input sequences in both directions with two sub-layers in order to account for the full input context” [5]\n",
        "\n",
        "- Conditional Random Fields (CRF), which is a class of statistical modeling method/classifier, predicts a label for a single sample by considering previous samples\n",
        "\n"
      ]
    },
    {
      "cell_type": "markdown",
      "metadata": {
        "id": "4oc6jhcu0Opc",
        "colab_type": "text"
      },
      "source": [
        "## **4. Applications**<a name=\"4\"></a> \n",
        "- NLP text mining helps maximize the information we get out of electronic health records, by finding patterns and concepts within the data that humans cannot identify with the bare eye.\n",
        "- Clinical documentation using electronic health records allows NLP to be applied in the healthcare industry, improving healthcare delivery, disease diagnosis and affordability [1]. \n",
        "- More specifically, NLP is a useful technique for precision medicine\n",
        " - NLP enables recognition and prediction of diseases based on electronic health records and patient’s own speech\n",
        " - Organizes unstructured data in health record databases, giving physicians more information about the data for decision making [6].\n",
        "- Amazon Alexa, which uses NLP technology,has collaborated with Britain’s National Health Service (NHS) to provide medical advice to its users [7]."
      ]
    },
    {
      "cell_type": "markdown",
      "metadata": {
        "id": "iaRtLTOpYboz",
        "colab_type": "text"
      },
      "source": [
        "#### **4.1 Case Study: Pharmacogenetic Studies** <a name=\"41\"></a>\n",
        "\n",
        "- Natural language processing algorithms were used to develop a weekly dose calculation system by extending an existing medication information extraction system “to extract drug-dose information from clinical text, and to assess the capabilities of such tools to automate the data-extraction process for pharmacogenetic studies.” [9]\n",
        "- This study was done specifically on warfarin\n",
        " - The experiment consisted of 1125 patients with a stable warfarin dose\n",
        "   - 776 of which who were managed by Coumadin Clinic physicians\n",
        "   - 349 of which who were managed by their providers\n",
        "- Two natural language processing algorithms were developed to extract weekly warfarin doses form both data sets \n",
        " - One regular expression (RegEx) based program for Coumadin Clinic notes which achieved:\n",
        "   - 100% recall, 97.4% precision, 97.5% accuracy\n",
        "  - And one MedEx-based program as a weekly dose calculator for narrative providers’ notes which achieved:\n",
        "   - 99.7% recall, 90.8% precision, 93.8% accuracy\n",
        "- Evaluation of these results showed that the algorithms performed well in extracting and capturing weekly doses of warfarin. This shows that bioinformatics algorithms have large potential to increase efficiency and speed of data extraction processes of pharmacogenetic studies. \n",
        "\n",
        "\n"
      ]
    },
    {
      "cell_type": "markdown",
      "metadata": {
        "id": "XjVDDOYk0eJa",
        "colab_type": "text"
      },
      "source": [
        "# **Referrence**\n",
        "[1] Yse, Diego Lopez. “Your Guide to Natural Language Processing (NLP).” Medium, Towards Data Science, 30 Apr. 2019, towardsdatascience.com/your-guide-to-natural-language-processing-nlp-48ea2511f6e1.<br>\n",
        "\n",
        "[2] Shetty, Badreesh. “Natural Language Processing(NLP) for Machine Learning.” Medium, Towards Data Science, 24 Nov. 2018, towardsdatascience.com/natural-language-processing-nlp-for-machine-learning-d44498845d5b.<br>\n",
        "\n",
        "[3] Wang, Zixu, et al. “Is Artificial Data Useful for Biomedical Natural Language Processing Algorithms?” Proceedings of the 18th BioNLP Workshop and Shared Task, 2019, doi:10.18653/v1/w19-5026.<br>\n",
        "\n",
        "[4] Mousa, Amr, and Björn Schuller. “Contextual Bidirectional Long Short-Term Memory Recurrent Neural Network Language Models: A Generative Approach to Sentiment Analysis.” Proceedings of the 15th Conference of the European Chapter of the Association for Computational Linguistics: Volume 1, Long Papers, 2017, doi:10.18653/v1/e17-1096.<br>\n",
        "\n",
        "[5] Banerjee, Suvro. “An Introduction to Recurrent Neural Networks.” Medium, Explore Science & Artificial Intelligence, 19 Aug. 2019, medium.com/explore-artificial-intelligence/an-introduction-to-recurrent-neural-networks-72c97bf0912.<br>\n",
        "\n",
        "[6] “Top 12 Use Cases of Natural Language Processing in Healthcare.” Maruti Techlabs, 2 Dec. 2019, marutitech.com/use-cases-of-natural-language-processing-in-healthcare/.<br>\n",
        "\n",
        "[7] Magra, Iliana. “Alexa Now Gives U.K. Users N.H.S. Medical Advice.” The New York Times, The New York Times, 10 July 2019, www.nytimes.com/2019/07/10/world/europe/alexa-nhs-amazon-privacy.html.<br>\n",
        "\n",
        "[8] “Sequence Tagging with Tensorflow.” Guillaume Genthial Blog, 5 Apr. 2017, guillaumegenthial.github.io/sequence-tagging-with-tensorflow.html.<br>\n",
        "\n",
        "[9] Hua Xu, Min Jiang, Matt Oetjens, Erica A Bowton, Andrea H Ramirez, Janina M Jeff, Melissa A Basford, Jill M Pulley, James D Cowan, Xiaoming Wang, Marylyn D Ritchie, Daniel R Masys, Dan M Roden, Dana C Crawford, Joshua C Denny, Facilitating pharmacogenetic studies using electronic health records and natural-language processing: a case study of warfarin, Journal of the American Medical Informatics Association, Volume 18, Issue 4, July 2011, Pages 387–391, https://doi.org/10.1136/amiajnl-2011-000208<br>\n",
        "\n",
        "\n"
      ]
    },
    {
      "cell_type": "markdown",
      "metadata": {
        "colab_type": "text",
        "id": "m-QdqZogZHxQ"
      },
      "source": [
        "## 5. Graph <a name=\"5\"></a> \n",
        "<table>\n",
        " <tbody>\n",
        "    <tr>\n",
        "        <th>Method</td>\n",
        "        <th>Targets</td>\n",
        "        <th>Resolution</td>\n",
        "        <th>Notes</td>\n",
        "    </tr>\n",
        "    <tr>\n",
        "        <td>3C <a href=\"http://refhub.elsevier.com/S2001-0370(17)30093-4/rf0535\">[3]</a></td>\n",
        "        <td>one-vs-one</td>\n",
        "        <td>~1–10 kb<br></td>\n",
        "        <td><ul><li>Sequence of bait locus must be known</li><li>Easy data analysis</li><li>Low throughput</li></ul></td>\n",
        "    </tr>\n",
        "    <tr>\n",
        "    <td>4C <a href=\"http://refhub.elsevier.com/S2001-0370(17)30093-4/rf0545\">[4]</a></td>\n",
        "    <td>one-vs-all</td>\n",
        "    <td>~2 kb</td>\n",
        "    <td><ul><li>Sequence of bait locus must be known</li><li>Detects novel contacts</li><li>Long-range contacts</li></ul></td>\n",
        "    </tr>\n",
        "    <tr>\n",
        "    <td>5C <a href=\"http://refhub.elsevier.com/S2001-0370(17)30093-4/rf0550\">[5]</a></td>\n",
        "    <td>many-vs-many</td>\n",
        "    <td>~1 kb</td>\n",
        "    <td><ul><li>High dynamic range</li><li>Complete contact map of a locus</li><li>3C with ligation-mediated amplification (LMA) of a ‘carbon copy’ library of oligos designed across restriction fragment junctions of interest\n",
        "3C</li></ul></td>\n",
        "    </tr>\n",
        "    <tr>\n",
        "    <td>Hi-C <a href=\"http://refhub.elsevier.com/S2001-0370(17)30093-4/rf0300\">[6]</a></td>\n",
        "    <td>all-vs-all</td>\n",
        "    <td>0.1–1 Mb</td>\n",
        "    <td><ul><li>Genome-wide nucleosome core positioning</li><li>Relative low resolution</li><li>High cost</li></ul></td>\n",
        "    </tr>\n",
        "    <tr>\n",
        "    <td>ChIA-PET <a href=\"http://refhub.elsevier.com/S0168-9525(15)00063-3/sbref1405\">[7]</a></td>\n",
        "    <td>Interaction of whole genome mediated by protein</td>\n",
        "    <td>Depends on read depth and the size of the genome region bound by the protein of interest</td>\n",
        "    <td><ul><li>Lower noise with ChIP</li><li>Biased method since selected protein</li></ul></td>\n",
        "    </tr>\n",
        " </tbody>\n",
        "</table>\n"
      ]
    }
  ]
}